{
 "cells": [
  {
   "cell_type": "markdown",
   "metadata": {},
   "source": [
    "# Prepare data from labels.csv -> subdirectories for Keras\n",
    "\n",
    "Convert from training images in a single directory with an accompanying labels.csv (see \"Dog Breeds\" Kaggle competition) to folder structure necessary for Keras data generators."
   ]
  },
  {
   "cell_type": "code",
   "execution_count": 1,
   "metadata": {
    "scrolled": true
   },
   "outputs": [
    {
     "name": "stderr",
     "output_type": "stream",
     "text": [
      "/home/ubuntu/anaconda3/envs/tensorflow_p36/lib/python3.6/site-packages/matplotlib/__init__.py:1067: UserWarning: Duplicate key in file \"/home/ubuntu/.config/matplotlib/matplotlibrc\", line #2\n",
      "  (fname, cnt))\n",
      "/home/ubuntu/anaconda3/envs/tensorflow_p36/lib/python3.6/site-packages/matplotlib/__init__.py:1067: UserWarning: Duplicate key in file \"/home/ubuntu/.config/matplotlib/matplotlibrc\", line #3\n",
      "  (fname, cnt))\n",
      "/home/ubuntu/anaconda3/envs/tensorflow_p36/lib/python3.6/site-packages/matplotlib/font_manager.py:278: UserWarning: Matplotlib is building the font cache using fc-list. This may take a moment.\n",
      "  'Matplotlib is building the font cache using fc-list. '\n"
     ]
    }
   ],
   "source": [
    "import numpy as np\n",
    "import pandas as pd\n",
    "import matplotlib.pyplot as plt\n",
    "from mpl_toolkits.axes_grid1 import ImageGrid\n",
    "import os\n",
    "from tqdm import tqdm, tqdm_notebook"
   ]
  },
  {
   "cell_type": "code",
   "execution_count": 8,
   "metadata": {
    "scrolled": true
   },
   "outputs": [],
   "source": [
    "from subprocess import check_output\n",
    "src_folder        = 'kaggle/train/'\n",
    "labels_loc        = 'kaggle/labels.csv'\n",
    "train_folder      = 'data/train'\n",
    "validation_folder = 'data/validation'\n",
    "ext = '.jpg'\n",
    "\n",
    "# Create train folder\n",
    "if not os.path.exists(train_folder):\n",
    "    os.makedirs(train_folder)\n",
    "# Create validation folder\n",
    "if not os.path.exists(validation_folder):\n",
    "    os.makedirs(validation_folder)"
   ]
  },
  {
   "cell_type": "code",
   "execution_count": 9,
   "metadata": {
    "scrolled": true
   },
   "outputs": [
    {
     "data": {
      "application/vnd.jupyter.widget-view+json": {
       "model_id": "21a2af33bb0d474b903ad471959797ff",
       "version_major": 2,
       "version_minor": 0
      },
      "text/plain": [
       "HBox(children=(IntProgress(value=0, max=120), HTML(value='')))"
      ]
     },
     "metadata": {},
     "output_type": "display_data"
    },
    {
     "name": "stdout",
     "output_type": "stream",
     "text": [
      "\n"
     ]
    }
   ],
   "source": [
    "# Create categories folders\n",
    "labels = pd.read_csv(labels_loc)\n",
    "categories = list(labels.groupby('breed').count().index)\n",
    "for category in tqdm_notebook(categories):\n",
    "    if not os.path.exists(os.path.join(train_folder, str(category))):\n",
    "        os.makedirs(os.path.join(train_folder, str(category)))\n",
    "    if not os.path.exists(os.path.join(validation_folder, str(category))):\n",
    "        os.mkdir(os.path.join(validation_folder, str(category)))"
   ]
  },
  {
   "cell_type": "code",
   "execution_count": 10,
   "metadata": {
    "scrolled": false
   },
   "outputs": [],
   "source": [
    "# 80% = train data \n",
    "SEED=2018\n",
    "np.random.seed(seed=SEED)\n",
    "rnd = np.random.random(len(labels))\n",
    "train_idx = rnd < 0.8\n",
    "valid_idx = rnd >= 0.8"
   ]
  },
  {
   "cell_type": "markdown",
   "metadata": {},
   "source": [
    "## NOTE: After running the cell below, no coming back - the files are moved. "
   ]
  },
  {
   "cell_type": "code",
   "execution_count": 11,
   "metadata": {
    "scrolled": true
   },
   "outputs": [
    {
     "name": "stdout",
     "output_type": "stream",
     "text": [
      "BEFORE: \n",
      " Src: 10222 files, Train: 0 files, Validation: 0 files\n"
     ]
    },
    {
     "data": {
      "application/vnd.jupyter.widget-view+json": {
       "model_id": "6d0c0ef517b34af2ad396a30b95f6ebf",
       "version_major": 2,
       "version_minor": 0
      },
      "text/plain": [
       "HBox(children=(IntProgress(value=0, max=10222), HTML(value='')))"
      ]
     },
     "metadata": {},
     "output_type": "display_data"
    },
    {
     "name": "stdout",
     "output_type": "stream",
     "text": [
      "\n",
      "AFTER: \n",
      " Src: 0 files, Train: 8122 files, Validation: 2100 files\n"
     ]
    }
   ],
   "source": [
    "print (\"BEFORE: \\n Src: {} files, Train: {} files, Validation: {} files\".format(\n",
    "    sum([len(files) for r, d, files in os.walk(src_folder)]), \n",
    "    sum([len(files) for r, d, files in os.walk(train_folder)]), \n",
    "    sum([len(files) for r, d, files in os.walk(validation_folder)]))\n",
    "      )\n",
    "\n",
    "for i, row in tqdm_notebook(enumerate(labels.itertuples()), total=len(labels)):\n",
    "    if train_idx[i]:\n",
    "        os.rename(os.path.join(src_folder, str(row.id)+ext), os.path.join(train_folder, row.breed, str(row.id)+ext))\n",
    "    else:\n",
    "        os.rename(os.path.join(src_folder, str(row.id)+ext), os.path.join(validation_folder, row.breed, str(row.id)+ext))\n",
    "\n",
    "print (\"AFTER: \\n Src: {} files, Train: {} files, Validation: {} files\".format(\n",
    "    sum([len(files) for r, d, files in os.walk(src_folder)]), \n",
    "    sum([len(files) for r, d, files in os.walk(train_folder)]), \n",
    "    sum([len(files) for r, d, files in os.walk(validation_folder)]))\n",
    "      )"
   ]
  },
  {
   "cell_type": "code",
   "execution_count": null,
   "metadata": {},
   "outputs": [],
   "source": []
  }
 ],
 "metadata": {
  "kernelspec": {
   "display_name": "Environment (conda_tensorflow_p36)",
   "language": "python",
   "name": "conda_tensorflow_p36"
  },
  "language_info": {
   "codemirror_mode": {
    "name": "ipython",
    "version": 3
   },
   "file_extension": ".py",
   "mimetype": "text/x-python",
   "name": "python",
   "nbconvert_exporter": "python",
   "pygments_lexer": "ipython3",
   "version": "3.6.4"
  }
 },
 "nbformat": 4,
 "nbformat_minor": 2
}
